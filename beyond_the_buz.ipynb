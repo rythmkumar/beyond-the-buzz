{
  "nbformat": 4,
  "nbformat_minor": 0,
  "metadata": {
    "colab": {
      "provenance": [],
      "authorship_tag": "ABX9TyP0wSMhzd66Cc8uffKkz5GS",
      "include_colab_link": true
    },
    "kernelspec": {
      "name": "python3",
      "display_name": "Python 3"
    },
    "language_info": {
      "name": "python"
    }
  },
  "cells": [
    {
      "cell_type": "markdown",
      "metadata": {
        "id": "view-in-github",
        "colab_type": "text"
      },
      "source": [
        "<a href=\"https://colab.research.google.com/github/rythmkumar/beyond-the-buzz/blob/main/beyond_the_buz.ipynb\" target=\"_parent\"><img src=\"https://colab.research.google.com/assets/colab-badge.svg\" alt=\"Open In Colab\"/></a>"
      ]
    },
    {
      "cell_type": "markdown",
      "source": [
        "Importing tensorflow "
      ],
      "metadata": {
        "id": "fyBthmjPLALm"
      }
    },
    {
      "cell_type": "code",
      "source": [
        "import tensorflow as tf\n",
        "print(tf.__version__)"
      ],
      "metadata": {
        "colab": {
          "base_uri": "https://localhost:8080/"
        },
        "id": "tDrePjoJQbyw",
        "outputId": "e76da23d-0024-4b99-9595-b669cc773c50"
      },
      "execution_count": null,
      "outputs": [
        {
          "output_type": "stream",
          "name": "stdout",
          "text": [
            "2.12.0\n"
          ]
        }
      ]
    },
    {
      "cell_type": "markdown",
      "source": [
        "Importing the required libraries like numpy, pandas and matplotlib.pyplot"
      ],
      "metadata": {
        "id": "2wOx3z2DLGMa"
      }
    },
    {
      "cell_type": "code",
      "source": [
        "import numpy as np\n",
        "import pandas as pd\n",
        "import matplotlib.pyplot as plt\n"
      ],
      "metadata": {
        "id": "q3flcc08Q7cC"
      },
      "execution_count": null,
      "outputs": []
    },
    {
      "cell_type": "markdown",
      "source": [
        "uploading the required train.csv and test.csv to google colab"
      ],
      "metadata": {
        "id": "oZB0f_qqLT9A"
      }
    },
    {
      "cell_type": "code",
      "source": [
        "from google.colab import files\n",
        "uploaded = files.upload()"
      ],
      "metadata": {
        "colab": {
          "base_uri": "https://localhost:8080/",
          "height": 73
        },
        "id": "pGzWZ3jUR6Eg",
        "outputId": "3f349862-2899-4bf3-e3e6-05f86edbe421"
      },
      "execution_count": null,
      "outputs": [
        {
          "output_type": "display_data",
          "data": {
            "text/plain": [
              "<IPython.core.display.HTML object>"
            ],
            "text/html": [
              "\n",
              "     <input type=\"file\" id=\"files-2fa2a04e-47c0-4579-b6fb-738d4972e8c3\" name=\"files[]\" multiple disabled\n",
              "        style=\"border:none\" />\n",
              "     <output id=\"result-2fa2a04e-47c0-4579-b6fb-738d4972e8c3\">\n",
              "      Upload widget is only available when the cell has been executed in the\n",
              "      current browser session. Please rerun this cell to enable.\n",
              "      </output>\n",
              "      <script>// Copyright 2017 Google LLC\n",
              "//\n",
              "// Licensed under the Apache License, Version 2.0 (the \"License\");\n",
              "// you may not use this file except in compliance with the License.\n",
              "// You may obtain a copy of the License at\n",
              "//\n",
              "//      http://www.apache.org/licenses/LICENSE-2.0\n",
              "//\n",
              "// Unless required by applicable law or agreed to in writing, software\n",
              "// distributed under the License is distributed on an \"AS IS\" BASIS,\n",
              "// WITHOUT WARRANTIES OR CONDITIONS OF ANY KIND, either express or implied.\n",
              "// See the License for the specific language governing permissions and\n",
              "// limitations under the License.\n",
              "\n",
              "/**\n",
              " * @fileoverview Helpers for google.colab Python module.\n",
              " */\n",
              "(function(scope) {\n",
              "function span(text, styleAttributes = {}) {\n",
              "  const element = document.createElement('span');\n",
              "  element.textContent = text;\n",
              "  for (const key of Object.keys(styleAttributes)) {\n",
              "    element.style[key] = styleAttributes[key];\n",
              "  }\n",
              "  return element;\n",
              "}\n",
              "\n",
              "// Max number of bytes which will be uploaded at a time.\n",
              "const MAX_PAYLOAD_SIZE = 100 * 1024;\n",
              "\n",
              "function _uploadFiles(inputId, outputId) {\n",
              "  const steps = uploadFilesStep(inputId, outputId);\n",
              "  const outputElement = document.getElementById(outputId);\n",
              "  // Cache steps on the outputElement to make it available for the next call\n",
              "  // to uploadFilesContinue from Python.\n",
              "  outputElement.steps = steps;\n",
              "\n",
              "  return _uploadFilesContinue(outputId);\n",
              "}\n",
              "\n",
              "// This is roughly an async generator (not supported in the browser yet),\n",
              "// where there are multiple asynchronous steps and the Python side is going\n",
              "// to poll for completion of each step.\n",
              "// This uses a Promise to block the python side on completion of each step,\n",
              "// then passes the result of the previous step as the input to the next step.\n",
              "function _uploadFilesContinue(outputId) {\n",
              "  const outputElement = document.getElementById(outputId);\n",
              "  const steps = outputElement.steps;\n",
              "\n",
              "  const next = steps.next(outputElement.lastPromiseValue);\n",
              "  return Promise.resolve(next.value.promise).then((value) => {\n",
              "    // Cache the last promise value to make it available to the next\n",
              "    // step of the generator.\n",
              "    outputElement.lastPromiseValue = value;\n",
              "    return next.value.response;\n",
              "  });\n",
              "}\n",
              "\n",
              "/**\n",
              " * Generator function which is called between each async step of the upload\n",
              " * process.\n",
              " * @param {string} inputId Element ID of the input file picker element.\n",
              " * @param {string} outputId Element ID of the output display.\n",
              " * @return {!Iterable<!Object>} Iterable of next steps.\n",
              " */\n",
              "function* uploadFilesStep(inputId, outputId) {\n",
              "  const inputElement = document.getElementById(inputId);\n",
              "  inputElement.disabled = false;\n",
              "\n",
              "  const outputElement = document.getElementById(outputId);\n",
              "  outputElement.innerHTML = '';\n",
              "\n",
              "  const pickedPromise = new Promise((resolve) => {\n",
              "    inputElement.addEventListener('change', (e) => {\n",
              "      resolve(e.target.files);\n",
              "    });\n",
              "  });\n",
              "\n",
              "  const cancel = document.createElement('button');\n",
              "  inputElement.parentElement.appendChild(cancel);\n",
              "  cancel.textContent = 'Cancel upload';\n",
              "  const cancelPromise = new Promise((resolve) => {\n",
              "    cancel.onclick = () => {\n",
              "      resolve(null);\n",
              "    };\n",
              "  });\n",
              "\n",
              "  // Wait for the user to pick the files.\n",
              "  const files = yield {\n",
              "    promise: Promise.race([pickedPromise, cancelPromise]),\n",
              "    response: {\n",
              "      action: 'starting',\n",
              "    }\n",
              "  };\n",
              "\n",
              "  cancel.remove();\n",
              "\n",
              "  // Disable the input element since further picks are not allowed.\n",
              "  inputElement.disabled = true;\n",
              "\n",
              "  if (!files) {\n",
              "    return {\n",
              "      response: {\n",
              "        action: 'complete',\n",
              "      }\n",
              "    };\n",
              "  }\n",
              "\n",
              "  for (const file of files) {\n",
              "    const li = document.createElement('li');\n",
              "    li.append(span(file.name, {fontWeight: 'bold'}));\n",
              "    li.append(span(\n",
              "        `(${file.type || 'n/a'}) - ${file.size} bytes, ` +\n",
              "        `last modified: ${\n",
              "            file.lastModifiedDate ? file.lastModifiedDate.toLocaleDateString() :\n",
              "                                    'n/a'} - `));\n",
              "    const percent = span('0% done');\n",
              "    li.appendChild(percent);\n",
              "\n",
              "    outputElement.appendChild(li);\n",
              "\n",
              "    const fileDataPromise = new Promise((resolve) => {\n",
              "      const reader = new FileReader();\n",
              "      reader.onload = (e) => {\n",
              "        resolve(e.target.result);\n",
              "      };\n",
              "      reader.readAsArrayBuffer(file);\n",
              "    });\n",
              "    // Wait for the data to be ready.\n",
              "    let fileData = yield {\n",
              "      promise: fileDataPromise,\n",
              "      response: {\n",
              "        action: 'continue',\n",
              "      }\n",
              "    };\n",
              "\n",
              "    // Use a chunked sending to avoid message size limits. See b/62115660.\n",
              "    let position = 0;\n",
              "    do {\n",
              "      const length = Math.min(fileData.byteLength - position, MAX_PAYLOAD_SIZE);\n",
              "      const chunk = new Uint8Array(fileData, position, length);\n",
              "      position += length;\n",
              "\n",
              "      const base64 = btoa(String.fromCharCode.apply(null, chunk));\n",
              "      yield {\n",
              "        response: {\n",
              "          action: 'append',\n",
              "          file: file.name,\n",
              "          data: base64,\n",
              "        },\n",
              "      };\n",
              "\n",
              "      let percentDone = fileData.byteLength === 0 ?\n",
              "          100 :\n",
              "          Math.round((position / fileData.byteLength) * 100);\n",
              "      percent.textContent = `${percentDone}% done`;\n",
              "\n",
              "    } while (position < fileData.byteLength);\n",
              "  }\n",
              "\n",
              "  // All done.\n",
              "  yield {\n",
              "    response: {\n",
              "      action: 'complete',\n",
              "    }\n",
              "  };\n",
              "}\n",
              "\n",
              "scope.google = scope.google || {};\n",
              "scope.google.colab = scope.google.colab || {};\n",
              "scope.google.colab._files = {\n",
              "  _uploadFiles,\n",
              "  _uploadFilesContinue,\n",
              "};\n",
              "})(self);\n",
              "</script> "
            ]
          },
          "metadata": {}
        },
        {
          "output_type": "stream",
          "name": "stdout",
          "text": [
            "Saving train.csv to train.csv\n"
          ]
        }
      ]
    },
    {
      "cell_type": "code",
      "source": [
        "from google.colab import files\n",
        "uploaded = files.upload()"
      ],
      "metadata": {
        "colab": {
          "base_uri": "https://localhost:8080/",
          "height": 73
        },
        "id": "HzfTWQWyR7wx",
        "outputId": "4287d117-aefa-4538-85af-bd5fa789a47a"
      },
      "execution_count": null,
      "outputs": [
        {
          "output_type": "display_data",
          "data": {
            "text/plain": [
              "<IPython.core.display.HTML object>"
            ],
            "text/html": [
              "\n",
              "     <input type=\"file\" id=\"files-b641ecc2-2fb7-4da2-ad33-7fd00a7f026f\" name=\"files[]\" multiple disabled\n",
              "        style=\"border:none\" />\n",
              "     <output id=\"result-b641ecc2-2fb7-4da2-ad33-7fd00a7f026f\">\n",
              "      Upload widget is only available when the cell has been executed in the\n",
              "      current browser session. Please rerun this cell to enable.\n",
              "      </output>\n",
              "      <script>// Copyright 2017 Google LLC\n",
              "//\n",
              "// Licensed under the Apache License, Version 2.0 (the \"License\");\n",
              "// you may not use this file except in compliance with the License.\n",
              "// You may obtain a copy of the License at\n",
              "//\n",
              "//      http://www.apache.org/licenses/LICENSE-2.0\n",
              "//\n",
              "// Unless required by applicable law or agreed to in writing, software\n",
              "// distributed under the License is distributed on an \"AS IS\" BASIS,\n",
              "// WITHOUT WARRANTIES OR CONDITIONS OF ANY KIND, either express or implied.\n",
              "// See the License for the specific language governing permissions and\n",
              "// limitations under the License.\n",
              "\n",
              "/**\n",
              " * @fileoverview Helpers for google.colab Python module.\n",
              " */\n",
              "(function(scope) {\n",
              "function span(text, styleAttributes = {}) {\n",
              "  const element = document.createElement('span');\n",
              "  element.textContent = text;\n",
              "  for (const key of Object.keys(styleAttributes)) {\n",
              "    element.style[key] = styleAttributes[key];\n",
              "  }\n",
              "  return element;\n",
              "}\n",
              "\n",
              "// Max number of bytes which will be uploaded at a time.\n",
              "const MAX_PAYLOAD_SIZE = 100 * 1024;\n",
              "\n",
              "function _uploadFiles(inputId, outputId) {\n",
              "  const steps = uploadFilesStep(inputId, outputId);\n",
              "  const outputElement = document.getElementById(outputId);\n",
              "  // Cache steps on the outputElement to make it available for the next call\n",
              "  // to uploadFilesContinue from Python.\n",
              "  outputElement.steps = steps;\n",
              "\n",
              "  return _uploadFilesContinue(outputId);\n",
              "}\n",
              "\n",
              "// This is roughly an async generator (not supported in the browser yet),\n",
              "// where there are multiple asynchronous steps and the Python side is going\n",
              "// to poll for completion of each step.\n",
              "// This uses a Promise to block the python side on completion of each step,\n",
              "// then passes the result of the previous step as the input to the next step.\n",
              "function _uploadFilesContinue(outputId) {\n",
              "  const outputElement = document.getElementById(outputId);\n",
              "  const steps = outputElement.steps;\n",
              "\n",
              "  const next = steps.next(outputElement.lastPromiseValue);\n",
              "  return Promise.resolve(next.value.promise).then((value) => {\n",
              "    // Cache the last promise value to make it available to the next\n",
              "    // step of the generator.\n",
              "    outputElement.lastPromiseValue = value;\n",
              "    return next.value.response;\n",
              "  });\n",
              "}\n",
              "\n",
              "/**\n",
              " * Generator function which is called between each async step of the upload\n",
              " * process.\n",
              " * @param {string} inputId Element ID of the input file picker element.\n",
              " * @param {string} outputId Element ID of the output display.\n",
              " * @return {!Iterable<!Object>} Iterable of next steps.\n",
              " */\n",
              "function* uploadFilesStep(inputId, outputId) {\n",
              "  const inputElement = document.getElementById(inputId);\n",
              "  inputElement.disabled = false;\n",
              "\n",
              "  const outputElement = document.getElementById(outputId);\n",
              "  outputElement.innerHTML = '';\n",
              "\n",
              "  const pickedPromise = new Promise((resolve) => {\n",
              "    inputElement.addEventListener('change', (e) => {\n",
              "      resolve(e.target.files);\n",
              "    });\n",
              "  });\n",
              "\n",
              "  const cancel = document.createElement('button');\n",
              "  inputElement.parentElement.appendChild(cancel);\n",
              "  cancel.textContent = 'Cancel upload';\n",
              "  const cancelPromise = new Promise((resolve) => {\n",
              "    cancel.onclick = () => {\n",
              "      resolve(null);\n",
              "    };\n",
              "  });\n",
              "\n",
              "  // Wait for the user to pick the files.\n",
              "  const files = yield {\n",
              "    promise: Promise.race([pickedPromise, cancelPromise]),\n",
              "    response: {\n",
              "      action: 'starting',\n",
              "    }\n",
              "  };\n",
              "\n",
              "  cancel.remove();\n",
              "\n",
              "  // Disable the input element since further picks are not allowed.\n",
              "  inputElement.disabled = true;\n",
              "\n",
              "  if (!files) {\n",
              "    return {\n",
              "      response: {\n",
              "        action: 'complete',\n",
              "      }\n",
              "    };\n",
              "  }\n",
              "\n",
              "  for (const file of files) {\n",
              "    const li = document.createElement('li');\n",
              "    li.append(span(file.name, {fontWeight: 'bold'}));\n",
              "    li.append(span(\n",
              "        `(${file.type || 'n/a'}) - ${file.size} bytes, ` +\n",
              "        `last modified: ${\n",
              "            file.lastModifiedDate ? file.lastModifiedDate.toLocaleDateString() :\n",
              "                                    'n/a'} - `));\n",
              "    const percent = span('0% done');\n",
              "    li.appendChild(percent);\n",
              "\n",
              "    outputElement.appendChild(li);\n",
              "\n",
              "    const fileDataPromise = new Promise((resolve) => {\n",
              "      const reader = new FileReader();\n",
              "      reader.onload = (e) => {\n",
              "        resolve(e.target.result);\n",
              "      };\n",
              "      reader.readAsArrayBuffer(file);\n",
              "    });\n",
              "    // Wait for the data to be ready.\n",
              "    let fileData = yield {\n",
              "      promise: fileDataPromise,\n",
              "      response: {\n",
              "        action: 'continue',\n",
              "      }\n",
              "    };\n",
              "\n",
              "    // Use a chunked sending to avoid message size limits. See b/62115660.\n",
              "    let position = 0;\n",
              "    do {\n",
              "      const length = Math.min(fileData.byteLength - position, MAX_PAYLOAD_SIZE);\n",
              "      const chunk = new Uint8Array(fileData, position, length);\n",
              "      position += length;\n",
              "\n",
              "      const base64 = btoa(String.fromCharCode.apply(null, chunk));\n",
              "      yield {\n",
              "        response: {\n",
              "          action: 'append',\n",
              "          file: file.name,\n",
              "          data: base64,\n",
              "        },\n",
              "      };\n",
              "\n",
              "      let percentDone = fileData.byteLength === 0 ?\n",
              "          100 :\n",
              "          Math.round((position / fileData.byteLength) * 100);\n",
              "      percent.textContent = `${percentDone}% done`;\n",
              "\n",
              "    } while (position < fileData.byteLength);\n",
              "  }\n",
              "\n",
              "  // All done.\n",
              "  yield {\n",
              "    response: {\n",
              "      action: 'complete',\n",
              "    }\n",
              "  };\n",
              "}\n",
              "\n",
              "scope.google = scope.google || {};\n",
              "scope.google.colab = scope.google.colab || {};\n",
              "scope.google.colab._files = {\n",
              "  _uploadFiles,\n",
              "  _uploadFilesContinue,\n",
              "};\n",
              "})(self);\n",
              "</script> "
            ]
          },
          "metadata": {}
        },
        {
          "output_type": "stream",
          "name": "stdout",
          "text": [
            "Saving test.csv to test.csv\n"
          ]
        }
      ]
    },
    {
      "cell_type": "markdown",
      "source": [
        "loading the train.csv file into pandas dataframe"
      ],
      "metadata": {
        "id": "rnUUUlYbLdLT"
      }
    },
    {
      "cell_type": "code",
      "source": [
        "dataset=pd.read_csv('train.csv')"
      ],
      "metadata": {
        "id": "F2alytXxTJPe"
      },
      "execution_count": null,
      "outputs": []
    },
    {
      "cell_type": "code",
      "source": [
        "dataset.head()"
      ],
      "metadata": {
        "colab": {
          "base_uri": "https://localhost:8080/",
          "height": 270
        },
        "id": "fR7rVDcZTvIv",
        "outputId": "c294ac1a-47e0-4e92-9128-c2b5d4a38a46"
      },
      "execution_count": null,
      "outputs": [
        {
          "output_type": "execute_result",
          "data": {
            "text/plain": [
              "   VERDICT  PARAMETER_1  PARAMETER_2  PARAMETER_3  PARAMETER_4  PARAMETER_5  \\\n",
              "0        1        39353        85475       117961       118300       123472   \n",
              "1        1        17183         1540       117961       118343       123125   \n",
              "2        1        36724        14457       118219       118220       117884   \n",
              "3        1        36135         5396       117961       118343       119993   \n",
              "4        1        42680         5905       117929       117930       119569   \n",
              "\n",
              "   PARAMETER_6  PARAMETER_7  PARAMETER_8  PARAMETER_9  \n",
              "0       117905       117906       290919       117908  \n",
              "1       118536       118536       308574       118539  \n",
              "2       117879       267952        19721       117880  \n",
              "3       118321       240983       290919       118322  \n",
              "4       119323       123932        19793       119325  "
            ],
            "text/html": [
              "\n",
              "  <div id=\"df-24bbf92c-fcee-485a-98fe-7053d1fd80ee\">\n",
              "    <div class=\"colab-df-container\">\n",
              "      <div>\n",
              "<style scoped>\n",
              "    .dataframe tbody tr th:only-of-type {\n",
              "        vertical-align: middle;\n",
              "    }\n",
              "\n",
              "    .dataframe tbody tr th {\n",
              "        vertical-align: top;\n",
              "    }\n",
              "\n",
              "    .dataframe thead th {\n",
              "        text-align: right;\n",
              "    }\n",
              "</style>\n",
              "<table border=\"1\" class=\"dataframe\">\n",
              "  <thead>\n",
              "    <tr style=\"text-align: right;\">\n",
              "      <th></th>\n",
              "      <th>VERDICT</th>\n",
              "      <th>PARAMETER_1</th>\n",
              "      <th>PARAMETER_2</th>\n",
              "      <th>PARAMETER_3</th>\n",
              "      <th>PARAMETER_4</th>\n",
              "      <th>PARAMETER_5</th>\n",
              "      <th>PARAMETER_6</th>\n",
              "      <th>PARAMETER_7</th>\n",
              "      <th>PARAMETER_8</th>\n",
              "      <th>PARAMETER_9</th>\n",
              "    </tr>\n",
              "  </thead>\n",
              "  <tbody>\n",
              "    <tr>\n",
              "      <th>0</th>\n",
              "      <td>1</td>\n",
              "      <td>39353</td>\n",
              "      <td>85475</td>\n",
              "      <td>117961</td>\n",
              "      <td>118300</td>\n",
              "      <td>123472</td>\n",
              "      <td>117905</td>\n",
              "      <td>117906</td>\n",
              "      <td>290919</td>\n",
              "      <td>117908</td>\n",
              "    </tr>\n",
              "    <tr>\n",
              "      <th>1</th>\n",
              "      <td>1</td>\n",
              "      <td>17183</td>\n",
              "      <td>1540</td>\n",
              "      <td>117961</td>\n",
              "      <td>118343</td>\n",
              "      <td>123125</td>\n",
              "      <td>118536</td>\n",
              "      <td>118536</td>\n",
              "      <td>308574</td>\n",
              "      <td>118539</td>\n",
              "    </tr>\n",
              "    <tr>\n",
              "      <th>2</th>\n",
              "      <td>1</td>\n",
              "      <td>36724</td>\n",
              "      <td>14457</td>\n",
              "      <td>118219</td>\n",
              "      <td>118220</td>\n",
              "      <td>117884</td>\n",
              "      <td>117879</td>\n",
              "      <td>267952</td>\n",
              "      <td>19721</td>\n",
              "      <td>117880</td>\n",
              "    </tr>\n",
              "    <tr>\n",
              "      <th>3</th>\n",
              "      <td>1</td>\n",
              "      <td>36135</td>\n",
              "      <td>5396</td>\n",
              "      <td>117961</td>\n",
              "      <td>118343</td>\n",
              "      <td>119993</td>\n",
              "      <td>118321</td>\n",
              "      <td>240983</td>\n",
              "      <td>290919</td>\n",
              "      <td>118322</td>\n",
              "    </tr>\n",
              "    <tr>\n",
              "      <th>4</th>\n",
              "      <td>1</td>\n",
              "      <td>42680</td>\n",
              "      <td>5905</td>\n",
              "      <td>117929</td>\n",
              "      <td>117930</td>\n",
              "      <td>119569</td>\n",
              "      <td>119323</td>\n",
              "      <td>123932</td>\n",
              "      <td>19793</td>\n",
              "      <td>119325</td>\n",
              "    </tr>\n",
              "  </tbody>\n",
              "</table>\n",
              "</div>\n",
              "      <button class=\"colab-df-convert\" onclick=\"convertToInteractive('df-24bbf92c-fcee-485a-98fe-7053d1fd80ee')\"\n",
              "              title=\"Convert this dataframe to an interactive table.\"\n",
              "              style=\"display:none;\">\n",
              "        \n",
              "  <svg xmlns=\"http://www.w3.org/2000/svg\" height=\"24px\"viewBox=\"0 0 24 24\"\n",
              "       width=\"24px\">\n",
              "    <path d=\"M0 0h24v24H0V0z\" fill=\"none\"/>\n",
              "    <path d=\"M18.56 5.44l.94 2.06.94-2.06 2.06-.94-2.06-.94-.94-2.06-.94 2.06-2.06.94zm-11 1L8.5 8.5l.94-2.06 2.06-.94-2.06-.94L8.5 2.5l-.94 2.06-2.06.94zm10 10l.94 2.06.94-2.06 2.06-.94-2.06-.94-.94-2.06-.94 2.06-2.06.94z\"/><path d=\"M17.41 7.96l-1.37-1.37c-.4-.4-.92-.59-1.43-.59-.52 0-1.04.2-1.43.59L10.3 9.45l-7.72 7.72c-.78.78-.78 2.05 0 2.83L4 21.41c.39.39.9.59 1.41.59.51 0 1.02-.2 1.41-.59l7.78-7.78 2.81-2.81c.8-.78.8-2.07 0-2.86zM5.41 20L4 18.59l7.72-7.72 1.47 1.35L5.41 20z\"/>\n",
              "  </svg>\n",
              "      </button>\n",
              "      \n",
              "  <style>\n",
              "    .colab-df-container {\n",
              "      display:flex;\n",
              "      flex-wrap:wrap;\n",
              "      gap: 12px;\n",
              "    }\n",
              "\n",
              "    .colab-df-convert {\n",
              "      background-color: #E8F0FE;\n",
              "      border: none;\n",
              "      border-radius: 50%;\n",
              "      cursor: pointer;\n",
              "      display: none;\n",
              "      fill: #1967D2;\n",
              "      height: 32px;\n",
              "      padding: 0 0 0 0;\n",
              "      width: 32px;\n",
              "    }\n",
              "\n",
              "    .colab-df-convert:hover {\n",
              "      background-color: #E2EBFA;\n",
              "      box-shadow: 0px 1px 2px rgba(60, 64, 67, 0.3), 0px 1px 3px 1px rgba(60, 64, 67, 0.15);\n",
              "      fill: #174EA6;\n",
              "    }\n",
              "\n",
              "    [theme=dark] .colab-df-convert {\n",
              "      background-color: #3B4455;\n",
              "      fill: #D2E3FC;\n",
              "    }\n",
              "\n",
              "    [theme=dark] .colab-df-convert:hover {\n",
              "      background-color: #434B5C;\n",
              "      box-shadow: 0px 1px 3px 1px rgba(0, 0, 0, 0.15);\n",
              "      filter: drop-shadow(0px 1px 2px rgba(0, 0, 0, 0.3));\n",
              "      fill: #FFFFFF;\n",
              "    }\n",
              "  </style>\n",
              "\n",
              "      <script>\n",
              "        const buttonEl =\n",
              "          document.querySelector('#df-24bbf92c-fcee-485a-98fe-7053d1fd80ee button.colab-df-convert');\n",
              "        buttonEl.style.display =\n",
              "          google.colab.kernel.accessAllowed ? 'block' : 'none';\n",
              "\n",
              "        async function convertToInteractive(key) {\n",
              "          const element = document.querySelector('#df-24bbf92c-fcee-485a-98fe-7053d1fd80ee');\n",
              "          const dataTable =\n",
              "            await google.colab.kernel.invokeFunction('convertToInteractive',\n",
              "                                                     [key], {});\n",
              "          if (!dataTable) return;\n",
              "\n",
              "          const docLinkHtml = 'Like what you see? Visit the ' +\n",
              "            '<a target=\"_blank\" href=https://colab.research.google.com/notebooks/data_table.ipynb>data table notebook</a>'\n",
              "            + ' to learn more about interactive tables.';\n",
              "          element.innerHTML = '';\n",
              "          dataTable['output_type'] = 'display_data';\n",
              "          await google.colab.output.renderOutput(dataTable, element);\n",
              "          const docLink = document.createElement('div');\n",
              "          docLink.innerHTML = docLinkHtml;\n",
              "          element.appendChild(docLink);\n",
              "        }\n",
              "      </script>\n",
              "    </div>\n",
              "  </div>\n",
              "  "
            ]
          },
          "metadata": {},
          "execution_count": 7
        }
      ]
    },
    {
      "cell_type": "markdown",
      "source": [
        "Splitting the loaded pandas dataframe into X(input data) and Y(target values)"
      ],
      "metadata": {
        "id": "9V9JMAmXLmXh"
      }
    },
    {
      "cell_type": "code",
      "source": [
        "X_train=dataset.iloc[:,1:]\n",
        "Y_train=dataset.iloc[:,:1]"
      ],
      "metadata": {
        "id": "sGdF6hlJTxNA"
      },
      "execution_count": null,
      "outputs": []
    },
    {
      "cell_type": "code",
      "source": [
        "Y_train.head()"
      ],
      "metadata": {
        "colab": {
          "base_uri": "https://localhost:8080/",
          "height": 206
        },
        "id": "HndVKUTKUh-w",
        "outputId": "aebbd368-d43c-4d4e-ac1a-940f22afe8f1"
      },
      "execution_count": null,
      "outputs": [
        {
          "output_type": "execute_result",
          "data": {
            "text/plain": [
              "   VERDICT\n",
              "0        1\n",
              "1        1\n",
              "2        1\n",
              "3        1\n",
              "4        1"
            ],
            "text/html": [
              "\n",
              "  <div id=\"df-809f1fbc-4dc1-4233-b81d-6bf902af430b\">\n",
              "    <div class=\"colab-df-container\">\n",
              "      <div>\n",
              "<style scoped>\n",
              "    .dataframe tbody tr th:only-of-type {\n",
              "        vertical-align: middle;\n",
              "    }\n",
              "\n",
              "    .dataframe tbody tr th {\n",
              "        vertical-align: top;\n",
              "    }\n",
              "\n",
              "    .dataframe thead th {\n",
              "        text-align: right;\n",
              "    }\n",
              "</style>\n",
              "<table border=\"1\" class=\"dataframe\">\n",
              "  <thead>\n",
              "    <tr style=\"text-align: right;\">\n",
              "      <th></th>\n",
              "      <th>VERDICT</th>\n",
              "    </tr>\n",
              "  </thead>\n",
              "  <tbody>\n",
              "    <tr>\n",
              "      <th>0</th>\n",
              "      <td>1</td>\n",
              "    </tr>\n",
              "    <tr>\n",
              "      <th>1</th>\n",
              "      <td>1</td>\n",
              "    </tr>\n",
              "    <tr>\n",
              "      <th>2</th>\n",
              "      <td>1</td>\n",
              "    </tr>\n",
              "    <tr>\n",
              "      <th>3</th>\n",
              "      <td>1</td>\n",
              "    </tr>\n",
              "    <tr>\n",
              "      <th>4</th>\n",
              "      <td>1</td>\n",
              "    </tr>\n",
              "  </tbody>\n",
              "</table>\n",
              "</div>\n",
              "      <button class=\"colab-df-convert\" onclick=\"convertToInteractive('df-809f1fbc-4dc1-4233-b81d-6bf902af430b')\"\n",
              "              title=\"Convert this dataframe to an interactive table.\"\n",
              "              style=\"display:none;\">\n",
              "        \n",
              "  <svg xmlns=\"http://www.w3.org/2000/svg\" height=\"24px\"viewBox=\"0 0 24 24\"\n",
              "       width=\"24px\">\n",
              "    <path d=\"M0 0h24v24H0V0z\" fill=\"none\"/>\n",
              "    <path d=\"M18.56 5.44l.94 2.06.94-2.06 2.06-.94-2.06-.94-.94-2.06-.94 2.06-2.06.94zm-11 1L8.5 8.5l.94-2.06 2.06-.94-2.06-.94L8.5 2.5l-.94 2.06-2.06.94zm10 10l.94 2.06.94-2.06 2.06-.94-2.06-.94-.94-2.06-.94 2.06-2.06.94z\"/><path d=\"M17.41 7.96l-1.37-1.37c-.4-.4-.92-.59-1.43-.59-.52 0-1.04.2-1.43.59L10.3 9.45l-7.72 7.72c-.78.78-.78 2.05 0 2.83L4 21.41c.39.39.9.59 1.41.59.51 0 1.02-.2 1.41-.59l7.78-7.78 2.81-2.81c.8-.78.8-2.07 0-2.86zM5.41 20L4 18.59l7.72-7.72 1.47 1.35L5.41 20z\"/>\n",
              "  </svg>\n",
              "      </button>\n",
              "      \n",
              "  <style>\n",
              "    .colab-df-container {\n",
              "      display:flex;\n",
              "      flex-wrap:wrap;\n",
              "      gap: 12px;\n",
              "    }\n",
              "\n",
              "    .colab-df-convert {\n",
              "      background-color: #E8F0FE;\n",
              "      border: none;\n",
              "      border-radius: 50%;\n",
              "      cursor: pointer;\n",
              "      display: none;\n",
              "      fill: #1967D2;\n",
              "      height: 32px;\n",
              "      padding: 0 0 0 0;\n",
              "      width: 32px;\n",
              "    }\n",
              "\n",
              "    .colab-df-convert:hover {\n",
              "      background-color: #E2EBFA;\n",
              "      box-shadow: 0px 1px 2px rgba(60, 64, 67, 0.3), 0px 1px 3px 1px rgba(60, 64, 67, 0.15);\n",
              "      fill: #174EA6;\n",
              "    }\n",
              "\n",
              "    [theme=dark] .colab-df-convert {\n",
              "      background-color: #3B4455;\n",
              "      fill: #D2E3FC;\n",
              "    }\n",
              "\n",
              "    [theme=dark] .colab-df-convert:hover {\n",
              "      background-color: #434B5C;\n",
              "      box-shadow: 0px 1px 3px 1px rgba(0, 0, 0, 0.15);\n",
              "      filter: drop-shadow(0px 1px 2px rgba(0, 0, 0, 0.3));\n",
              "      fill: #FFFFFF;\n",
              "    }\n",
              "  </style>\n",
              "\n",
              "      <script>\n",
              "        const buttonEl =\n",
              "          document.querySelector('#df-809f1fbc-4dc1-4233-b81d-6bf902af430b button.colab-df-convert');\n",
              "        buttonEl.style.display =\n",
              "          google.colab.kernel.accessAllowed ? 'block' : 'none';\n",
              "\n",
              "        async function convertToInteractive(key) {\n",
              "          const element = document.querySelector('#df-809f1fbc-4dc1-4233-b81d-6bf902af430b');\n",
              "          const dataTable =\n",
              "            await google.colab.kernel.invokeFunction('convertToInteractive',\n",
              "                                                     [key], {});\n",
              "          if (!dataTable) return;\n",
              "\n",
              "          const docLinkHtml = 'Like what you see? Visit the ' +\n",
              "            '<a target=\"_blank\" href=https://colab.research.google.com/notebooks/data_table.ipynb>data table notebook</a>'\n",
              "            + ' to learn more about interactive tables.';\n",
              "          element.innerHTML = '';\n",
              "          dataTable['output_type'] = 'display_data';\n",
              "          await google.colab.output.renderOutput(dataTable, element);\n",
              "          const docLink = document.createElement('div');\n",
              "          docLink.innerHTML = docLinkHtml;\n",
              "          element.appendChild(docLink);\n",
              "        }\n",
              "      </script>\n",
              "    </div>\n",
              "  </div>\n",
              "  "
            ]
          },
          "metadata": {},
          "execution_count": 9
        }
      ]
    },
    {
      "cell_type": "code",
      "source": [
        "X_train.head()"
      ],
      "metadata": {
        "colab": {
          "base_uri": "https://localhost:8080/",
          "height": 270
        },
        "id": "GiWnFZ4SUkVw",
        "outputId": "24ccce07-7ae9-4199-a7a1-63e468511bff"
      },
      "execution_count": null,
      "outputs": [
        {
          "output_type": "execute_result",
          "data": {
            "text/plain": [
              "   PARAMETER_1  PARAMETER_2  PARAMETER_3  PARAMETER_4  PARAMETER_5  \\\n",
              "0        39353        85475       117961       118300       123472   \n",
              "1        17183         1540       117961       118343       123125   \n",
              "2        36724        14457       118219       118220       117884   \n",
              "3        36135         5396       117961       118343       119993   \n",
              "4        42680         5905       117929       117930       119569   \n",
              "\n",
              "   PARAMETER_6  PARAMETER_7  PARAMETER_8  PARAMETER_9  \n",
              "0       117905       117906       290919       117908  \n",
              "1       118536       118536       308574       118539  \n",
              "2       117879       267952        19721       117880  \n",
              "3       118321       240983       290919       118322  \n",
              "4       119323       123932        19793       119325  "
            ],
            "text/html": [
              "\n",
              "  <div id=\"df-0e460c52-244a-4512-875c-7eea812d33a8\">\n",
              "    <div class=\"colab-df-container\">\n",
              "      <div>\n",
              "<style scoped>\n",
              "    .dataframe tbody tr th:only-of-type {\n",
              "        vertical-align: middle;\n",
              "    }\n",
              "\n",
              "    .dataframe tbody tr th {\n",
              "        vertical-align: top;\n",
              "    }\n",
              "\n",
              "    .dataframe thead th {\n",
              "        text-align: right;\n",
              "    }\n",
              "</style>\n",
              "<table border=\"1\" class=\"dataframe\">\n",
              "  <thead>\n",
              "    <tr style=\"text-align: right;\">\n",
              "      <th></th>\n",
              "      <th>PARAMETER_1</th>\n",
              "      <th>PARAMETER_2</th>\n",
              "      <th>PARAMETER_3</th>\n",
              "      <th>PARAMETER_4</th>\n",
              "      <th>PARAMETER_5</th>\n",
              "      <th>PARAMETER_6</th>\n",
              "      <th>PARAMETER_7</th>\n",
              "      <th>PARAMETER_8</th>\n",
              "      <th>PARAMETER_9</th>\n",
              "    </tr>\n",
              "  </thead>\n",
              "  <tbody>\n",
              "    <tr>\n",
              "      <th>0</th>\n",
              "      <td>39353</td>\n",
              "      <td>85475</td>\n",
              "      <td>117961</td>\n",
              "      <td>118300</td>\n",
              "      <td>123472</td>\n",
              "      <td>117905</td>\n",
              "      <td>117906</td>\n",
              "      <td>290919</td>\n",
              "      <td>117908</td>\n",
              "    </tr>\n",
              "    <tr>\n",
              "      <th>1</th>\n",
              "      <td>17183</td>\n",
              "      <td>1540</td>\n",
              "      <td>117961</td>\n",
              "      <td>118343</td>\n",
              "      <td>123125</td>\n",
              "      <td>118536</td>\n",
              "      <td>118536</td>\n",
              "      <td>308574</td>\n",
              "      <td>118539</td>\n",
              "    </tr>\n",
              "    <tr>\n",
              "      <th>2</th>\n",
              "      <td>36724</td>\n",
              "      <td>14457</td>\n",
              "      <td>118219</td>\n",
              "      <td>118220</td>\n",
              "      <td>117884</td>\n",
              "      <td>117879</td>\n",
              "      <td>267952</td>\n",
              "      <td>19721</td>\n",
              "      <td>117880</td>\n",
              "    </tr>\n",
              "    <tr>\n",
              "      <th>3</th>\n",
              "      <td>36135</td>\n",
              "      <td>5396</td>\n",
              "      <td>117961</td>\n",
              "      <td>118343</td>\n",
              "      <td>119993</td>\n",
              "      <td>118321</td>\n",
              "      <td>240983</td>\n",
              "      <td>290919</td>\n",
              "      <td>118322</td>\n",
              "    </tr>\n",
              "    <tr>\n",
              "      <th>4</th>\n",
              "      <td>42680</td>\n",
              "      <td>5905</td>\n",
              "      <td>117929</td>\n",
              "      <td>117930</td>\n",
              "      <td>119569</td>\n",
              "      <td>119323</td>\n",
              "      <td>123932</td>\n",
              "      <td>19793</td>\n",
              "      <td>119325</td>\n",
              "    </tr>\n",
              "  </tbody>\n",
              "</table>\n",
              "</div>\n",
              "      <button class=\"colab-df-convert\" onclick=\"convertToInteractive('df-0e460c52-244a-4512-875c-7eea812d33a8')\"\n",
              "              title=\"Convert this dataframe to an interactive table.\"\n",
              "              style=\"display:none;\">\n",
              "        \n",
              "  <svg xmlns=\"http://www.w3.org/2000/svg\" height=\"24px\"viewBox=\"0 0 24 24\"\n",
              "       width=\"24px\">\n",
              "    <path d=\"M0 0h24v24H0V0z\" fill=\"none\"/>\n",
              "    <path d=\"M18.56 5.44l.94 2.06.94-2.06 2.06-.94-2.06-.94-.94-2.06-.94 2.06-2.06.94zm-11 1L8.5 8.5l.94-2.06 2.06-.94-2.06-.94L8.5 2.5l-.94 2.06-2.06.94zm10 10l.94 2.06.94-2.06 2.06-.94-2.06-.94-.94-2.06-.94 2.06-2.06.94z\"/><path d=\"M17.41 7.96l-1.37-1.37c-.4-.4-.92-.59-1.43-.59-.52 0-1.04.2-1.43.59L10.3 9.45l-7.72 7.72c-.78.78-.78 2.05 0 2.83L4 21.41c.39.39.9.59 1.41.59.51 0 1.02-.2 1.41-.59l7.78-7.78 2.81-2.81c.8-.78.8-2.07 0-2.86zM5.41 20L4 18.59l7.72-7.72 1.47 1.35L5.41 20z\"/>\n",
              "  </svg>\n",
              "      </button>\n",
              "      \n",
              "  <style>\n",
              "    .colab-df-container {\n",
              "      display:flex;\n",
              "      flex-wrap:wrap;\n",
              "      gap: 12px;\n",
              "    }\n",
              "\n",
              "    .colab-df-convert {\n",
              "      background-color: #E8F0FE;\n",
              "      border: none;\n",
              "      border-radius: 50%;\n",
              "      cursor: pointer;\n",
              "      display: none;\n",
              "      fill: #1967D2;\n",
              "      height: 32px;\n",
              "      padding: 0 0 0 0;\n",
              "      width: 32px;\n",
              "    }\n",
              "\n",
              "    .colab-df-convert:hover {\n",
              "      background-color: #E2EBFA;\n",
              "      box-shadow: 0px 1px 2px rgba(60, 64, 67, 0.3), 0px 1px 3px 1px rgba(60, 64, 67, 0.15);\n",
              "      fill: #174EA6;\n",
              "    }\n",
              "\n",
              "    [theme=dark] .colab-df-convert {\n",
              "      background-color: #3B4455;\n",
              "      fill: #D2E3FC;\n",
              "    }\n",
              "\n",
              "    [theme=dark] .colab-df-convert:hover {\n",
              "      background-color: #434B5C;\n",
              "      box-shadow: 0px 1px 3px 1px rgba(0, 0, 0, 0.15);\n",
              "      filter: drop-shadow(0px 1px 2px rgba(0, 0, 0, 0.3));\n",
              "      fill: #FFFFFF;\n",
              "    }\n",
              "  </style>\n",
              "\n",
              "      <script>\n",
              "        const buttonEl =\n",
              "          document.querySelector('#df-0e460c52-244a-4512-875c-7eea812d33a8 button.colab-df-convert');\n",
              "        buttonEl.style.display =\n",
              "          google.colab.kernel.accessAllowed ? 'block' : 'none';\n",
              "\n",
              "        async function convertToInteractive(key) {\n",
              "          const element = document.querySelector('#df-0e460c52-244a-4512-875c-7eea812d33a8');\n",
              "          const dataTable =\n",
              "            await google.colab.kernel.invokeFunction('convertToInteractive',\n",
              "                                                     [key], {});\n",
              "          if (!dataTable) return;\n",
              "\n",
              "          const docLinkHtml = 'Like what you see? Visit the ' +\n",
              "            '<a target=\"_blank\" href=https://colab.research.google.com/notebooks/data_table.ipynb>data table notebook</a>'\n",
              "            + ' to learn more about interactive tables.';\n",
              "          element.innerHTML = '';\n",
              "          dataTable['output_type'] = 'display_data';\n",
              "          await google.colab.output.renderOutput(dataTable, element);\n",
              "          const docLink = document.createElement('div');\n",
              "          docLink.innerHTML = docLinkHtml;\n",
              "          element.appendChild(docLink);\n",
              "        }\n",
              "      </script>\n",
              "    </div>\n",
              "  </div>\n",
              "  "
            ]
          },
          "metadata": {},
          "execution_count": 10
        }
      ]
    },
    {
      "cell_type": "code",
      "source": [
        "test_data=pd.read_csv('test.csv')\n",
        "X_test=test_data.iloc[:,1:]"
      ],
      "metadata": {
        "id": "6Uft4xpZUnox"
      },
      "execution_count": null,
      "outputs": []
    },
    {
      "cell_type": "markdown",
      "source": [
        "Feature Scaling"
      ],
      "metadata": {
        "id": "y9JlzAWIU64e"
      }
    },
    {
      "cell_type": "markdown",
      "source": [
        "Using StandardScaler for feature scaling so that the formed data should have mean =0 and standard deviation =1 .\n",
        "It improve the optimization process and help the gradient to reach the minimum faster\n",
        "New Xi= (Xi-mean of a feature)/standard deviation\n"
      ],
      "metadata": {
        "id": "eeHJ14rWMEzW"
      }
    },
    {
      "cell_type": "code",
      "source": [
        "from sklearn.preprocessing import StandardScaler\n",
        "sc=StandardScaler()\n",
        "X_train=sc.fit_transform(X_train)\n",
        "X_test=sc.transform(X_test)"
      ],
      "metadata": {
        "id": "YHLIMBDLU92H"
      },
      "execution_count": null,
      "outputs": []
    },
    {
      "cell_type": "code",
      "source": [
        "X_train.shape"
      ],
      "metadata": {
        "colab": {
          "base_uri": "https://localhost:8080/"
        },
        "id": "kk3q8YOJYMcU",
        "outputId": "63208e87-9775-4c9d-a7a7-336ac0a95f11"
      },
      "execution_count": null,
      "outputs": [
        {
          "output_type": "execute_result",
          "data": {
            "text/plain": [
              "(32769, 9)"
            ]
          },
          "metadata": {},
          "execution_count": 14
        }
      ]
    },
    {
      "cell_type": "markdown",
      "source": [
        "using tensorflow we create neural network. Sequential function connects one layer of neural network to the next one \n",
        "\n",
        "Dense is used to create a neural node .\n",
        "activation function relu is used which is x when x>0 and 0 otherwise.\n",
        "\n",
        "In the last activation function sigmoid is used and 1 neuron so that the output we get is between the 0 and 1\n",
        "\n",
        "No. of neurons 9 is used in the input layer because the no of features is 9. \n",
        "No of hidden layers are two in this model with 7 neurons each \n",
        "\n",
        "forward propogation is used to calculate the output from the final output layer. In forward ppropogation we propogate forward to get the output \n",
        "\n",
        "Backward propogation . It is used to propogate backwards to get the minimum of the cost function using gradient descent\n",
        "\n",
        "W are the weights of the corresponding neural layer \n",
        "\n",
        "Z1 = W1*A0 +B1\n",
        "A1= f(Z1) , f is the activation function\n",
        "Z2 = W2*A1 + B2\n",
        "A2= f(Z2)\n",
        "Z3 = W3*A2 +B3\n",
        "A3= f(Z3) , A3 is the final output"
      ],
      "metadata": {
        "id": "0H4EbgIZRm9k"
      }
    },
    {
      "cell_type": "code",
      "source": [
        "from tensorflow.keras.models import Sequential\n",
        "from tensorflow.keras.layers import Dense\n",
        "\n",
        "model=Sequential([Dense(units=9,activation='relu'), Dense(units=7,activation='relu'), Dense(units=7,activation='relu'), Dense(1,activation='sigmoid')])"
      ],
      "metadata": {
        "id": "bUW5ehLvYQpb"
      },
      "execution_count": null,
      "outputs": []
    },
    {
      "cell_type": "markdown",
      "source": [
        "Using adam optimizeer as optimizer and binary crossentropy as loss function and score as accuracy \n",
        "Binary cross entropy is -log2(Yi) for which Yi is maximum in the possible answers in classification problem"
      ],
      "metadata": {
        "id": "NW5jSs5NScEl"
      }
    },
    {
      "cell_type": "code",
      "source": [
        "model.compile(optimizer='adam',loss='binary_crossentropy',metrics=['accuracy'])"
      ],
      "metadata": {
        "id": "X746poZHpESJ"
      },
      "execution_count": null,
      "outputs": []
    },
    {
      "cell_type": "markdown",
      "source": [
        "Using early stoping such that the training automatically get stopped when the improvement in the monitor value is less than the min delta."
      ],
      "metadata": {
        "id": "UGq7Jem0TJwQ"
      }
    },
    {
      "cell_type": "code",
      "source": [
        "# Early stoping\n",
        "early_stopping=tf.keras.callbacks.EarlyStopping(\n",
        "    monitor='val_loss',\n",
        "    min_delta=0.0001,\n",
        "    patience=10,\n",
        "    verbose=1,\n",
        "    mode='auto',\n",
        "    baseline=None,\n",
        "    restore_best_weights=False,\n",
        "    start_from_epoch=0\n",
        ")"
      ],
      "metadata": {
        "id": "UkZD66UvtyK5"
      },
      "execution_count": null,
      "outputs": []
    },
    {
      "cell_type": "markdown",
      "source": [
        "Training the model with the validation split of 33 percent in which randomly 33 percent of the train data will be selected to check the accuracy of the model "
      ],
      "metadata": {
        "id": "kI6HYKu2TjcO"
      }
    },
    {
      "cell_type": "code",
      "source": [
        "model_history=model.fit(X_train,Y_train,validation_split=0.33,batch_size=10,epochs=200,callbacks=early_stopping)"
      ],
      "metadata": {
        "colab": {
          "base_uri": "https://localhost:8080/"
        },
        "id": "6gbUse24uUQp",
        "outputId": "bb2f28d6-a903-471d-f13a-28efbbb4da7c"
      },
      "execution_count": null,
      "outputs": [
        {
          "output_type": "stream",
          "name": "stdout",
          "text": [
            "Epoch 1/200\n",
            "2196/2196 [==============================] - 9s 3ms/step - loss: 0.2339 - accuracy: 0.9428 - val_loss: 0.2270 - val_accuracy: 0.9406\n",
            "Epoch 2/200\n",
            "2196/2196 [==============================] - 8s 3ms/step - loss: 0.2186 - accuracy: 0.9428 - val_loss: 0.2236 - val_accuracy: 0.9406\n",
            "Epoch 3/200\n",
            "2196/2196 [==============================] - 6s 3ms/step - loss: 0.2169 - accuracy: 0.9428 - val_loss: 0.2230 - val_accuracy: 0.9406\n",
            "Epoch 4/200\n",
            "2196/2196 [==============================] - 7s 3ms/step - loss: 0.2161 - accuracy: 0.9428 - val_loss: 0.2211 - val_accuracy: 0.9406\n",
            "Epoch 5/200\n",
            "2196/2196 [==============================] - 6s 3ms/step - loss: 0.2156 - accuracy: 0.9428 - val_loss: 0.2197 - val_accuracy: 0.9406\n",
            "Epoch 6/200\n",
            "2196/2196 [==============================] - 7s 3ms/step - loss: 0.2150 - accuracy: 0.9428 - val_loss: 0.2230 - val_accuracy: 0.9406\n",
            "Epoch 7/200\n",
            "2196/2196 [==============================] - 6s 3ms/step - loss: 0.2147 - accuracy: 0.9428 - val_loss: 0.2195 - val_accuracy: 0.9406\n",
            "Epoch 8/200\n",
            "2196/2196 [==============================] - 8s 3ms/step - loss: 0.2147 - accuracy: 0.9428 - val_loss: 0.2196 - val_accuracy: 0.9406\n",
            "Epoch 9/200\n",
            "2196/2196 [==============================] - 7s 3ms/step - loss: 0.2142 - accuracy: 0.9428 - val_loss: 0.2185 - val_accuracy: 0.9406\n",
            "Epoch 10/200\n",
            "2196/2196 [==============================] - 8s 4ms/step - loss: 0.2141 - accuracy: 0.9428 - val_loss: 0.2190 - val_accuracy: 0.9406\n",
            "Epoch 11/200\n",
            "2196/2196 [==============================] - 6s 3ms/step - loss: 0.2140 - accuracy: 0.9428 - val_loss: 0.2179 - val_accuracy: 0.9406\n",
            "Epoch 12/200\n",
            "2196/2196 [==============================] - 7s 3ms/step - loss: 0.2135 - accuracy: 0.9429 - val_loss: 0.2182 - val_accuracy: 0.9406\n",
            "Epoch 13/200\n",
            "2196/2196 [==============================] - 6s 3ms/step - loss: 0.2133 - accuracy: 0.9429 - val_loss: 0.2182 - val_accuracy: 0.9406\n",
            "Epoch 14/200\n",
            "2196/2196 [==============================] - 7s 3ms/step - loss: 0.2131 - accuracy: 0.9428 - val_loss: 0.2180 - val_accuracy: 0.9406\n",
            "Epoch 15/200\n",
            "2196/2196 [==============================] - 7s 3ms/step - loss: 0.2131 - accuracy: 0.9428 - val_loss: 0.2192 - val_accuracy: 0.9406\n",
            "Epoch 16/200\n",
            "2196/2196 [==============================] - 7s 3ms/step - loss: 0.2130 - accuracy: 0.9429 - val_loss: 0.2170 - val_accuracy: 0.9406\n",
            "Epoch 17/200\n",
            "2196/2196 [==============================] - 7s 3ms/step - loss: 0.2130 - accuracy: 0.9429 - val_loss: 0.2180 - val_accuracy: 0.9406\n",
            "Epoch 18/200\n",
            "2196/2196 [==============================] - 7s 3ms/step - loss: 0.2128 - accuracy: 0.9429 - val_loss: 0.2178 - val_accuracy: 0.9406\n",
            "Epoch 19/200\n",
            "2196/2196 [==============================] - 7s 3ms/step - loss: 0.2126 - accuracy: 0.9429 - val_loss: 0.2178 - val_accuracy: 0.9406\n",
            "Epoch 20/200\n",
            "2196/2196 [==============================] - 8s 4ms/step - loss: 0.2124 - accuracy: 0.9429 - val_loss: 0.2170 - val_accuracy: 0.9406\n",
            "Epoch 21/200\n",
            "2196/2196 [==============================] - 6s 3ms/step - loss: 0.2125 - accuracy: 0.9429 - val_loss: 0.2169 - val_accuracy: 0.9406\n",
            "Epoch 22/200\n",
            "2196/2196 [==============================] - 6s 3ms/step - loss: 0.2122 - accuracy: 0.9428 - val_loss: 0.2166 - val_accuracy: 0.9406\n",
            "Epoch 23/200\n",
            "2196/2196 [==============================] - 7s 3ms/step - loss: 0.2123 - accuracy: 0.9429 - val_loss: 0.2167 - val_accuracy: 0.9406\n",
            "Epoch 24/200\n",
            "2196/2196 [==============================] - 6s 3ms/step - loss: 0.2117 - accuracy: 0.9429 - val_loss: 0.2177 - val_accuracy: 0.9406\n",
            "Epoch 25/200\n",
            "2196/2196 [==============================] - 7s 3ms/step - loss: 0.2119 - accuracy: 0.9429 - val_loss: 0.2165 - val_accuracy: 0.9406\n",
            "Epoch 26/200\n",
            "2196/2196 [==============================] - 7s 3ms/step - loss: 0.2115 - accuracy: 0.9429 - val_loss: 0.2168 - val_accuracy: 0.9406\n",
            "Epoch 27/200\n",
            "2196/2196 [==============================] - 8s 4ms/step - loss: 0.2113 - accuracy: 0.9428 - val_loss: 0.2165 - val_accuracy: 0.9406\n",
            "Epoch 28/200\n",
            "2196/2196 [==============================] - 7s 3ms/step - loss: 0.2115 - accuracy: 0.9429 - val_loss: 0.2154 - val_accuracy: 0.9406\n",
            "Epoch 29/200\n",
            "2196/2196 [==============================] - 7s 3ms/step - loss: 0.2115 - accuracy: 0.9429 - val_loss: 0.2156 - val_accuracy: 0.9406\n",
            "Epoch 30/200\n",
            "2196/2196 [==============================] - 6s 3ms/step - loss: 0.2117 - accuracy: 0.9428 - val_loss: 0.2157 - val_accuracy: 0.9406\n",
            "Epoch 31/200\n",
            "2196/2196 [==============================] - 7s 3ms/step - loss: 0.2114 - accuracy: 0.9429 - val_loss: 0.2162 - val_accuracy: 0.9406\n",
            "Epoch 32/200\n",
            "2196/2196 [==============================] - 6s 3ms/step - loss: 0.2113 - accuracy: 0.9429 - val_loss: 0.2161 - val_accuracy: 0.9406\n",
            "Epoch 33/200\n",
            "2196/2196 [==============================] - 8s 3ms/step - loss: 0.2113 - accuracy: 0.9429 - val_loss: 0.2155 - val_accuracy: 0.9406\n",
            "Epoch 34/200\n",
            "2196/2196 [==============================] - 6s 3ms/step - loss: 0.2113 - accuracy: 0.9429 - val_loss: 0.2163 - val_accuracy: 0.9406\n",
            "Epoch 35/200\n",
            "2196/2196 [==============================] - 8s 3ms/step - loss: 0.2107 - accuracy: 0.9429 - val_loss: 0.2168 - val_accuracy: 0.9406\n",
            "Epoch 36/200\n",
            "2196/2196 [==============================] - 7s 3ms/step - loss: 0.2111 - accuracy: 0.9429 - val_loss: 0.2164 - val_accuracy: 0.9406\n",
            "Epoch 37/200\n",
            "2196/2196 [==============================] - 7s 3ms/step - loss: 0.2106 - accuracy: 0.9429 - val_loss: 0.2161 - val_accuracy: 0.9406\n",
            "Epoch 38/200\n",
            "2196/2196 [==============================] - 7s 3ms/step - loss: 0.2110 - accuracy: 0.9429 - val_loss: 0.2189 - val_accuracy: 0.9406\n",
            "Epoch 38: early stopping\n"
          ]
        }
      ]
    },
    {
      "cell_type": "code",
      "source": [
        "model_history.history.keys()"
      ],
      "metadata": {
        "colab": {
          "base_uri": "https://localhost:8080/"
        },
        "id": "WcqCHNDbuyc5",
        "outputId": "ed49b0e8-a492-4331-af98-19e2a38bb65e"
      },
      "execution_count": null,
      "outputs": [
        {
          "output_type": "execute_result",
          "data": {
            "text/plain": [
              "dict_keys(['loss', 'accuracy', 'val_loss', 'val_accuracy'])"
            ]
          },
          "metadata": {},
          "execution_count": 19
        }
      ]
    },
    {
      "cell_type": "markdown",
      "source": [
        "Predicting the values of the X_test data"
      ],
      "metadata": {
        "id": "fDS-6sw2UTG0"
      }
    },
    {
      "cell_type": "code",
      "source": [
        "Y_pred=model.predict(X_test)\n"
      ],
      "metadata": {
        "colab": {
          "base_uri": "https://localhost:8080/"
        },
        "id": "K34jVze0yEG3",
        "outputId": "33dec578-fa19-4c34-8b78-8b87a28e1585"
      },
      "execution_count": null,
      "outputs": [
        {
          "output_type": "stream",
          "name": "stdout",
          "text": [
            "1842/1842 [==============================] - 3s 1ms/step\n"
          ]
        }
      ]
    },
    {
      "cell_type": "code",
      "source": [
        "Y_pred=[1 if(i>=0.5) else 0 for i in Y_pred]"
      ],
      "metadata": {
        "id": "dXl7UteA7oEo"
      },
      "execution_count": null,
      "outputs": []
    },
    {
      "cell_type": "code",
      "source": [
        "Predictions = pd.DataFrame(Y_pred)"
      ],
      "metadata": {
        "id": "dO5F19ckyv5J"
      },
      "execution_count": null,
      "outputs": []
    },
    {
      "cell_type": "code",
      "source": [
        "Predictions.head()"
      ],
      "metadata": {
        "colab": {
          "base_uri": "https://localhost:8080/",
          "height": 206
        },
        "id": "SakSwYKH6xpk",
        "outputId": "afb1da7a-fecb-4f9b-d5b7-04a1e4312965"
      },
      "execution_count": null,
      "outputs": [
        {
          "output_type": "execute_result",
          "data": {
            "text/plain": [
              "   0\n",
              "0  1\n",
              "1  1\n",
              "2  1\n",
              "3  1\n",
              "4  1"
            ],
            "text/html": [
              "\n",
              "  <div id=\"df-91853097-a92d-4330-ad83-a1ba45fec8d7\">\n",
              "    <div class=\"colab-df-container\">\n",
              "      <div>\n",
              "<style scoped>\n",
              "    .dataframe tbody tr th:only-of-type {\n",
              "        vertical-align: middle;\n",
              "    }\n",
              "\n",
              "    .dataframe tbody tr th {\n",
              "        vertical-align: top;\n",
              "    }\n",
              "\n",
              "    .dataframe thead th {\n",
              "        text-align: right;\n",
              "    }\n",
              "</style>\n",
              "<table border=\"1\" class=\"dataframe\">\n",
              "  <thead>\n",
              "    <tr style=\"text-align: right;\">\n",
              "      <th></th>\n",
              "      <th>0</th>\n",
              "    </tr>\n",
              "  </thead>\n",
              "  <tbody>\n",
              "    <tr>\n",
              "      <th>0</th>\n",
              "      <td>1</td>\n",
              "    </tr>\n",
              "    <tr>\n",
              "      <th>1</th>\n",
              "      <td>1</td>\n",
              "    </tr>\n",
              "    <tr>\n",
              "      <th>2</th>\n",
              "      <td>1</td>\n",
              "    </tr>\n",
              "    <tr>\n",
              "      <th>3</th>\n",
              "      <td>1</td>\n",
              "    </tr>\n",
              "    <tr>\n",
              "      <th>4</th>\n",
              "      <td>1</td>\n",
              "    </tr>\n",
              "  </tbody>\n",
              "</table>\n",
              "</div>\n",
              "      <button class=\"colab-df-convert\" onclick=\"convertToInteractive('df-91853097-a92d-4330-ad83-a1ba45fec8d7')\"\n",
              "              title=\"Convert this dataframe to an interactive table.\"\n",
              "              style=\"display:none;\">\n",
              "        \n",
              "  <svg xmlns=\"http://www.w3.org/2000/svg\" height=\"24px\"viewBox=\"0 0 24 24\"\n",
              "       width=\"24px\">\n",
              "    <path d=\"M0 0h24v24H0V0z\" fill=\"none\"/>\n",
              "    <path d=\"M18.56 5.44l.94 2.06.94-2.06 2.06-.94-2.06-.94-.94-2.06-.94 2.06-2.06.94zm-11 1L8.5 8.5l.94-2.06 2.06-.94-2.06-.94L8.5 2.5l-.94 2.06-2.06.94zm10 10l.94 2.06.94-2.06 2.06-.94-2.06-.94-.94-2.06-.94 2.06-2.06.94z\"/><path d=\"M17.41 7.96l-1.37-1.37c-.4-.4-.92-.59-1.43-.59-.52 0-1.04.2-1.43.59L10.3 9.45l-7.72 7.72c-.78.78-.78 2.05 0 2.83L4 21.41c.39.39.9.59 1.41.59.51 0 1.02-.2 1.41-.59l7.78-7.78 2.81-2.81c.8-.78.8-2.07 0-2.86zM5.41 20L4 18.59l7.72-7.72 1.47 1.35L5.41 20z\"/>\n",
              "  </svg>\n",
              "      </button>\n",
              "      \n",
              "  <style>\n",
              "    .colab-df-container {\n",
              "      display:flex;\n",
              "      flex-wrap:wrap;\n",
              "      gap: 12px;\n",
              "    }\n",
              "\n",
              "    .colab-df-convert {\n",
              "      background-color: #E8F0FE;\n",
              "      border: none;\n",
              "      border-radius: 50%;\n",
              "      cursor: pointer;\n",
              "      display: none;\n",
              "      fill: #1967D2;\n",
              "      height: 32px;\n",
              "      padding: 0 0 0 0;\n",
              "      width: 32px;\n",
              "    }\n",
              "\n",
              "    .colab-df-convert:hover {\n",
              "      background-color: #E2EBFA;\n",
              "      box-shadow: 0px 1px 2px rgba(60, 64, 67, 0.3), 0px 1px 3px 1px rgba(60, 64, 67, 0.15);\n",
              "      fill: #174EA6;\n",
              "    }\n",
              "\n",
              "    [theme=dark] .colab-df-convert {\n",
              "      background-color: #3B4455;\n",
              "      fill: #D2E3FC;\n",
              "    }\n",
              "\n",
              "    [theme=dark] .colab-df-convert:hover {\n",
              "      background-color: #434B5C;\n",
              "      box-shadow: 0px 1px 3px 1px rgba(0, 0, 0, 0.15);\n",
              "      filter: drop-shadow(0px 1px 2px rgba(0, 0, 0, 0.3));\n",
              "      fill: #FFFFFF;\n",
              "    }\n",
              "  </style>\n",
              "\n",
              "      <script>\n",
              "        const buttonEl =\n",
              "          document.querySelector('#df-91853097-a92d-4330-ad83-a1ba45fec8d7 button.colab-df-convert');\n",
              "        buttonEl.style.display =\n",
              "          google.colab.kernel.accessAllowed ? 'block' : 'none';\n",
              "\n",
              "        async function convertToInteractive(key) {\n",
              "          const element = document.querySelector('#df-91853097-a92d-4330-ad83-a1ba45fec8d7');\n",
              "          const dataTable =\n",
              "            await google.colab.kernel.invokeFunction('convertToInteractive',\n",
              "                                                     [key], {});\n",
              "          if (!dataTable) return;\n",
              "\n",
              "          const docLinkHtml = 'Like what you see? Visit the ' +\n",
              "            '<a target=\"_blank\" href=https://colab.research.google.com/notebooks/data_table.ipynb>data table notebook</a>'\n",
              "            + ' to learn more about interactive tables.';\n",
              "          element.innerHTML = '';\n",
              "          dataTable['output_type'] = 'display_data';\n",
              "          await google.colab.output.renderOutput(dataTable, element);\n",
              "          const docLink = document.createElement('div');\n",
              "          docLink.innerHTML = docLinkHtml;\n",
              "          element.appendChild(docLink);\n",
              "        }\n",
              "      </script>\n",
              "    </div>\n",
              "  </div>\n",
              "  "
            ]
          },
          "metadata": {},
          "execution_count": 23
        }
      ]
    },
    {
      "cell_type": "markdown",
      "source": [
        "Converting the pandas dataframe of predictions to csv file"
      ],
      "metadata": {
        "id": "HUPmtMmdUjpV"
      }
    },
    {
      "cell_type": "code",
      "source": [
        "Predictions.to_csv('predictions.csv')"
      ],
      "metadata": {
        "id": "PVhW-BfJyfki"
      },
      "execution_count": null,
      "outputs": []
    },
    {
      "cell_type": "code",
      "source": [],
      "metadata": {
        "id": "dOoHZhWW6Lb_"
      },
      "execution_count": null,
      "outputs": []
    }
  ]
}